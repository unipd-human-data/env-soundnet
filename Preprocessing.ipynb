{
  "nbformat": 4,
  "nbformat_minor": 0,
  "metadata": {
    "colab": {
      "provenance": [],
      "authorship_tag": "ABX9TyP+3DpeZv1EQXgNmXKgHDd3",
      "include_colab_link": true
    },
    "kernelspec": {
      "name": "python3",
      "display_name": "Python 3"
    },
    "language_info": {
      "name": "python"
    }
  },
  "cells": [
    {
      "cell_type": "markdown",
      "metadata": {
        "id": "view-in-github",
        "colab_type": "text"
      },
      "source": [
        "<a href=\"https://colab.research.google.com/github/unipd-human-data/env-soundnet/blob/main/Preprocessing.ipynb\" target=\"_parent\"><img src=\"https://colab.research.google.com/assets/colab-badge.svg\" alt=\"Open In Colab\"/></a>"
      ]
    },
    {
      "cell_type": "markdown",
      "source": [
        "# Preprocessing"
      ],
      "metadata": {
        "id": "eeEA1jM-72rq"
      }
    },
    {
      "cell_type": "markdown",
      "source": [
        "Installazione librerie e setup ambiente"
      ],
      "metadata": {
        "id": "CC3nzsPe4rsb"
      }
    },
    {
      "cell_type": "code",
      "source": [
        "!pip install librosa pydub torchaudio snntorch tqdm matplotlib seaborn"
      ],
      "metadata": {
        "colab": {
          "base_uri": "https://localhost:8080/"
        },
        "collapsed": true,
        "id": "i3dO0nRD40JJ",
        "outputId": "3638c7aa-3bb7-4ffd-de9a-8251d23a2f83"
      },
      "execution_count": 6,
      "outputs": [
        {
          "output_type": "stream",
          "name": "stdout",
          "text": [
            "Requirement already satisfied: librosa in /usr/local/lib/python3.11/dist-packages (0.11.0)\n",
            "Requirement already satisfied: pydub in /usr/local/lib/python3.11/dist-packages (0.25.1)\n",
            "Requirement already satisfied: torchaudio in /usr/local/lib/python3.11/dist-packages (2.6.0+cu124)\n",
            "Requirement already satisfied: snntorch in /usr/local/lib/python3.11/dist-packages (0.9.4)\n",
            "Requirement already satisfied: tqdm in /usr/local/lib/python3.11/dist-packages (4.67.1)\n",
            "Requirement already satisfied: matplotlib in /usr/local/lib/python3.11/dist-packages (3.10.0)\n",
            "Requirement already satisfied: seaborn in /usr/local/lib/python3.11/dist-packages (0.13.2)\n",
            "Requirement already satisfied: audioread>=2.1.9 in /usr/local/lib/python3.11/dist-packages (from librosa) (3.0.1)\n",
            "Requirement already satisfied: numba>=0.51.0 in /usr/local/lib/python3.11/dist-packages (from librosa) (0.60.0)\n",
            "Requirement already satisfied: numpy>=1.22.3 in /usr/local/lib/python3.11/dist-packages (from librosa) (2.0.2)\n",
            "Requirement already satisfied: scipy>=1.6.0 in /usr/local/lib/python3.11/dist-packages (from librosa) (1.15.2)\n",
            "Requirement already satisfied: scikit-learn>=1.1.0 in /usr/local/lib/python3.11/dist-packages (from librosa) (1.6.1)\n",
            "Requirement already satisfied: joblib>=1.0 in /usr/local/lib/python3.11/dist-packages (from librosa) (1.4.2)\n",
            "Requirement already satisfied: decorator>=4.3.0 in /usr/local/lib/python3.11/dist-packages (from librosa) (4.4.2)\n",
            "Requirement already satisfied: soundfile>=0.12.1 in /usr/local/lib/python3.11/dist-packages (from librosa) (0.13.1)\n",
            "Requirement already satisfied: pooch>=1.1 in /usr/local/lib/python3.11/dist-packages (from librosa) (1.8.2)\n",
            "Requirement already satisfied: soxr>=0.3.2 in /usr/local/lib/python3.11/dist-packages (from librosa) (0.5.0.post1)\n",
            "Requirement already satisfied: typing_extensions>=4.1.1 in /usr/local/lib/python3.11/dist-packages (from librosa) (4.13.2)\n",
            "Requirement already satisfied: lazy_loader>=0.1 in /usr/local/lib/python3.11/dist-packages (from librosa) (0.4)\n",
            "Requirement already satisfied: msgpack>=1.0 in /usr/local/lib/python3.11/dist-packages (from librosa) (1.1.0)\n",
            "Requirement already satisfied: torch==2.6.0 in /usr/local/lib/python3.11/dist-packages (from torchaudio) (2.6.0+cu124)\n",
            "Requirement already satisfied: filelock in /usr/local/lib/python3.11/dist-packages (from torch==2.6.0->torchaudio) (3.18.0)\n",
            "Requirement already satisfied: networkx in /usr/local/lib/python3.11/dist-packages (from torch==2.6.0->torchaudio) (3.4.2)\n",
            "Requirement already satisfied: jinja2 in /usr/local/lib/python3.11/dist-packages (from torch==2.6.0->torchaudio) (3.1.6)\n",
            "Requirement already satisfied: fsspec in /usr/local/lib/python3.11/dist-packages (from torch==2.6.0->torchaudio) (2025.3.2)\n",
            "Requirement already satisfied: nvidia-cuda-nvrtc-cu12==12.4.127 in /usr/local/lib/python3.11/dist-packages (from torch==2.6.0->torchaudio) (12.4.127)\n",
            "Requirement already satisfied: nvidia-cuda-runtime-cu12==12.4.127 in /usr/local/lib/python3.11/dist-packages (from torch==2.6.0->torchaudio) (12.4.127)\n",
            "Requirement already satisfied: nvidia-cuda-cupti-cu12==12.4.127 in /usr/local/lib/python3.11/dist-packages (from torch==2.6.0->torchaudio) (12.4.127)\n",
            "Requirement already satisfied: nvidia-cudnn-cu12==9.1.0.70 in /usr/local/lib/python3.11/dist-packages (from torch==2.6.0->torchaudio) (9.1.0.70)\n",
            "Requirement already satisfied: nvidia-cublas-cu12==12.4.5.8 in /usr/local/lib/python3.11/dist-packages (from torch==2.6.0->torchaudio) (12.4.5.8)\n",
            "Requirement already satisfied: nvidia-cufft-cu12==11.2.1.3 in /usr/local/lib/python3.11/dist-packages (from torch==2.6.0->torchaudio) (11.2.1.3)\n",
            "Requirement already satisfied: nvidia-curand-cu12==10.3.5.147 in /usr/local/lib/python3.11/dist-packages (from torch==2.6.0->torchaudio) (10.3.5.147)\n",
            "Requirement already satisfied: nvidia-cusolver-cu12==11.6.1.9 in /usr/local/lib/python3.11/dist-packages (from torch==2.6.0->torchaudio) (11.6.1.9)\n",
            "Requirement already satisfied: nvidia-cusparse-cu12==12.3.1.170 in /usr/local/lib/python3.11/dist-packages (from torch==2.6.0->torchaudio) (12.3.1.170)\n",
            "Requirement already satisfied: nvidia-cusparselt-cu12==0.6.2 in /usr/local/lib/python3.11/dist-packages (from torch==2.6.0->torchaudio) (0.6.2)\n",
            "Requirement already satisfied: nvidia-nccl-cu12==2.21.5 in /usr/local/lib/python3.11/dist-packages (from torch==2.6.0->torchaudio) (2.21.5)\n",
            "Requirement already satisfied: nvidia-nvtx-cu12==12.4.127 in /usr/local/lib/python3.11/dist-packages (from torch==2.6.0->torchaudio) (12.4.127)\n",
            "Requirement already satisfied: nvidia-nvjitlink-cu12==12.4.127 in /usr/local/lib/python3.11/dist-packages (from torch==2.6.0->torchaudio) (12.4.127)\n",
            "Requirement already satisfied: triton==3.2.0 in /usr/local/lib/python3.11/dist-packages (from torch==2.6.0->torchaudio) (3.2.0)\n",
            "Requirement already satisfied: sympy==1.13.1 in /usr/local/lib/python3.11/dist-packages (from torch==2.6.0->torchaudio) (1.13.1)\n",
            "Requirement already satisfied: mpmath<1.4,>=1.1.0 in /usr/local/lib/python3.11/dist-packages (from sympy==1.13.1->torch==2.6.0->torchaudio) (1.3.0)\n",
            "Requirement already satisfied: contourpy>=1.0.1 in /usr/local/lib/python3.11/dist-packages (from matplotlib) (1.3.2)\n",
            "Requirement already satisfied: cycler>=0.10 in /usr/local/lib/python3.11/dist-packages (from matplotlib) (0.12.1)\n",
            "Requirement already satisfied: fonttools>=4.22.0 in /usr/local/lib/python3.11/dist-packages (from matplotlib) (4.57.0)\n",
            "Requirement already satisfied: kiwisolver>=1.3.1 in /usr/local/lib/python3.11/dist-packages (from matplotlib) (1.4.8)\n",
            "Requirement already satisfied: packaging>=20.0 in /usr/local/lib/python3.11/dist-packages (from matplotlib) (24.2)\n",
            "Requirement already satisfied: pillow>=8 in /usr/local/lib/python3.11/dist-packages (from matplotlib) (11.2.1)\n",
            "Requirement already satisfied: pyparsing>=2.3.1 in /usr/local/lib/python3.11/dist-packages (from matplotlib) (3.2.3)\n",
            "Requirement already satisfied: python-dateutil>=2.7 in /usr/local/lib/python3.11/dist-packages (from matplotlib) (2.9.0.post0)\n",
            "Requirement already satisfied: pandas>=1.2 in /usr/local/lib/python3.11/dist-packages (from seaborn) (2.2.2)\n",
            "Requirement already satisfied: llvmlite<0.44,>=0.43.0dev0 in /usr/local/lib/python3.11/dist-packages (from numba>=0.51.0->librosa) (0.43.0)\n",
            "Requirement already satisfied: pytz>=2020.1 in /usr/local/lib/python3.11/dist-packages (from pandas>=1.2->seaborn) (2025.2)\n",
            "Requirement already satisfied: tzdata>=2022.7 in /usr/local/lib/python3.11/dist-packages (from pandas>=1.2->seaborn) (2025.2)\n",
            "Requirement already satisfied: platformdirs>=2.5.0 in /usr/local/lib/python3.11/dist-packages (from pooch>=1.1->librosa) (4.3.7)\n",
            "Requirement already satisfied: requests>=2.19.0 in /usr/local/lib/python3.11/dist-packages (from pooch>=1.1->librosa) (2.32.3)\n",
            "Requirement already satisfied: six>=1.5 in /usr/local/lib/python3.11/dist-packages (from python-dateutil>=2.7->matplotlib) (1.17.0)\n",
            "Requirement already satisfied: threadpoolctl>=3.1.0 in /usr/local/lib/python3.11/dist-packages (from scikit-learn>=1.1.0->librosa) (3.6.0)\n",
            "Requirement already satisfied: cffi>=1.0 in /usr/local/lib/python3.11/dist-packages (from soundfile>=0.12.1->librosa) (1.17.1)\n",
            "Requirement already satisfied: pycparser in /usr/local/lib/python3.11/dist-packages (from cffi>=1.0->soundfile>=0.12.1->librosa) (2.22)\n",
            "Requirement already satisfied: charset-normalizer<4,>=2 in /usr/local/lib/python3.11/dist-packages (from requests>=2.19.0->pooch>=1.1->librosa) (3.4.1)\n",
            "Requirement already satisfied: idna<4,>=2.5 in /usr/local/lib/python3.11/dist-packages (from requests>=2.19.0->pooch>=1.1->librosa) (3.10)\n",
            "Requirement already satisfied: urllib3<3,>=1.21.1 in /usr/local/lib/python3.11/dist-packages (from requests>=2.19.0->pooch>=1.1->librosa) (2.4.0)\n",
            "Requirement already satisfied: certifi>=2017.4.17 in /usr/local/lib/python3.11/dist-packages (from requests>=2.19.0->pooch>=1.1->librosa) (2025.4.26)\n",
            "Requirement already satisfied: MarkupSafe>=2.0 in /usr/local/lib/python3.11/dist-packages (from jinja2->torch==2.6.0->torchaudio) (3.0.2)\n"
          ]
        }
      ]
    },
    {
      "cell_type": "code",
      "source": [
        "#Libreria standard\n",
        "import os                               #file e cartelle\n",
        "import numpy as np                      #operazioni matriciali, audio e spet sono matrici\n",
        "import pandas as pd                     #leggere e gestire tabelle come esc50.csv\n",
        "import matplotlib.pyplot as plt         #grafici std\n",
        "import seaborn as sns                   #grafici statistici più belli\n",
        "\n",
        "#Audio\n",
        "import librosa                          #per audio in python, calcola features ecc\n",
        "import librosa.display                  #visualizzare spettrogrammi\n",
        "import torchaudio                       #audio di pytorch, usata per pipeline integrata con PyTorch\n",
        "import torchaudio.transforms as T       #Moduli per convertire audio in MelSpectogram o trasfromazioni\n",
        "from pydub import AudioSegment          #gestire audio a livello più \"umano\"\n",
        "\n",
        "#Deep learning e SNN\n",
        "import torch                            #costruzioni reti neurali\n",
        "import snntorch as snn                  #estensione pytorch per SNN\n",
        "from snntorch import spikegen           #converte input in spike train\n",
        "from snntorch import spikeplot as splt\n",
        "import tensorflow as tf                 #costruzione e training di modelli di ml e dl\n",
        "from sklearn.model_selection import train_test_split\n",
        "\n",
        "#Altri\n",
        "from tqdm import tqdm                   #aggiungere barre di progresso ai loop, quanto manca al caricamento audio\n"
      ],
      "metadata": {
        "id": "6lA1IIp254cG"
      },
      "execution_count": 42,
      "outputs": []
    },
    {
      "cell_type": "markdown",
      "source": [
        "Collegamento al drive"
      ],
      "metadata": {
        "id": "4C9rT9mN8b3l"
      }
    },
    {
      "cell_type": "code",
      "source": [
        "from google.colab import drive\n",
        "drive.mount('/content/drive')"
      ],
      "metadata": {
        "colab": {
          "base_uri": "https://localhost:8080/"
        },
        "id": "c9JQoSkS8eU2",
        "outputId": "31bebd6c-fa53-4c3d-e115-b0c968b20597"
      },
      "execution_count": 8,
      "outputs": [
        {
          "output_type": "stream",
          "name": "stdout",
          "text": [
            "Drive already mounted at /content/drive; to attempt to forcibly remount, call drive.mount(\"/content/drive\", force_remount=True).\n"
          ]
        }
      ]
    },
    {
      "cell_type": "markdown",
      "source": [
        "## Uploading CSV of ESC-50 metadata. Relocation of audio files in the ESC-50 and ESC-10 folders"
      ],
      "metadata": {
        "id": "WpS-cIvu9Obo"
      }
    },
    {
      "cell_type": "code",
      "source": [
        "esc_50_df = pd.read_csv(\"/content/drive/MyDrive/HumanData/ESC-50-master/meta/esc50.csv\")\n",
        "\n",
        "def relocate_files(file_name, category, is_esc10):\n",
        "  src = f\"/content/drive/MyDrive/HumanData/ESC-50-master/audio/{file_name}\"\n",
        "  esc50_dest_folder = f\"/content/drive/MyDrive/HumanData/ESC-50/{category}\"\n",
        "  esc10_dest_folder = f\"/content/drive/MyDrive/HumanData/ESC-10/{category}\"\n",
        "\n",
        "  # Ensure destination folder exists, creation folders\n",
        "  os.makedirs(esc50_dest_folder, exist_ok=True)\n",
        "  if is_esc10:\n",
        "    os.makedirs(esc10_dest_folder, exist_ok=True)\n",
        "\n",
        "  dest_esc50 = os.path.join(esc50_dest_folder, file_name)\n",
        "  dest_esc10 = os.path.join(esc10_dest_folder, file_name)\n",
        "\n",
        "  # Check if the file already exists in the destination\n",
        "  if not os.path.exists(dest_esc50):\n",
        "    shutil.copy(src, dest_esc50)\n",
        "    print(f\"Moved {file_name} to {dest_esc50}\")\n",
        "  else:\n",
        "    print(f\"File '{file_name}' already exists in '{dest_esc50}', skipping...\")\n",
        "\n",
        "  if not os.path.exists(dest_esc10):\n",
        "    if is_esc10:\n",
        "      shutil.copy(src, dest_esc10)\n",
        "      print(f\"Moved {file_name} to {dest_esc10}\")\n",
        "  else:\n",
        "    print(f\"File '{file_name}' already exists in '{dest_esc10}', skipping...\")\n",
        "\n",
        "\n",
        "#esc_50_df.apply(lambda row: relocate_files(row['filename'], row['category'], row['esc10']), axis = 1)\n"
      ],
      "metadata": {
        "collapsed": true,
        "id": "zJYU8g1i9Q7A"
      },
      "execution_count": 9,
      "outputs": []
    },
    {
      "cell_type": "code",
      "source": [
        "%ls /content/drive/MyDrive/HumanData/ESC-50/\n"
      ],
      "metadata": {
        "colab": {
          "base_uri": "https://localhost:8080/"
        },
        "id": "xuWijugp_Z-c",
        "outputId": "a19f7775-b675-4339-dddb-17b044665ade"
      },
      "execution_count": 10,
      "outputs": [
        {
          "output_type": "stream",
          "name": "stdout",
          "text": [
            "\u001b[0m\u001b[01;34mairplane\u001b[0m/        \u001b[01;34mcow\u001b[0m/               \u001b[01;34mglass_breaking\u001b[0m/   \u001b[01;34msheep\u001b[0m/\n",
            "\u001b[01;34mbreathing\u001b[0m/       \u001b[01;34mcrackling_fire\u001b[0m/    \u001b[01;34mhand_saw\u001b[0m/         \u001b[01;34msiren\u001b[0m/\n",
            "\u001b[01;34mbrushing_teeth\u001b[0m/  \u001b[01;34mcrickets\u001b[0m/          \u001b[01;34mhelicopter\u001b[0m/       \u001b[01;34msneezing\u001b[0m/\n",
            "\u001b[01;34mcan_opening\u001b[0m/     \u001b[01;34mcrow\u001b[0m/              \u001b[01;34mhen\u001b[0m/              \u001b[01;34msnoring\u001b[0m/\n",
            "\u001b[01;34mcar_horn\u001b[0m/        \u001b[01;34mcrying_baby\u001b[0m/       \u001b[01;34minsects\u001b[0m/          \u001b[01;34mthunderstorm\u001b[0m/\n",
            "\u001b[01;34mcat\u001b[0m/             \u001b[01;34mdog\u001b[0m/               \u001b[01;34mkeyboard_typing\u001b[0m/  \u001b[01;34mtoilet_flush\u001b[0m/\n",
            "\u001b[01;34mchainsaw\u001b[0m/        \u001b[01;34mdoor_wood_creaks\u001b[0m/  \u001b[01;34mlaughing\u001b[0m/         \u001b[01;34mtrain\u001b[0m/\n",
            "\u001b[01;34mchirping_birds\u001b[0m/  \u001b[01;34mdoor_wood_knock\u001b[0m/   \u001b[01;34mmouse_click\u001b[0m/      \u001b[01;34mvacuum_cleaner\u001b[0m/\n",
            "\u001b[01;34mchurch_bells\u001b[0m/    \u001b[01;34mdrinking_sipping\u001b[0m/  \u001b[01;34mpig\u001b[0m/              \u001b[01;34mwashing_machine\u001b[0m/\n",
            "\u001b[01;34mclapping\u001b[0m/        \u001b[01;34mengine\u001b[0m/            \u001b[01;34mpouring_water\u001b[0m/    \u001b[01;34mwater_drops\u001b[0m/\n",
            "\u001b[01;34mclock_alarm\u001b[0m/     \u001b[01;34mfireworks\u001b[0m/         \u001b[01;34mrain\u001b[0m/             \u001b[01;34mwind\u001b[0m/\n",
            "\u001b[01;34mclock_tick\u001b[0m/      \u001b[01;34mfootsteps\u001b[0m/         \u001b[01;34mrooster\u001b[0m/\n",
            "\u001b[01;34mcoughing\u001b[0m/        \u001b[01;34mfrog\u001b[0m/              \u001b[01;34msea_waves\u001b[0m/\n"
          ]
        }
      ]
    },
    {
      "cell_type": "markdown",
      "source": [
        "1. Caricamento file .wav\n",
        "2. Rimozione silenzio iniziale/finale\n",
        "3. Normalizzare il segnale\n",
        "4. Calcolo Mel-spectogramma logaritmico (db)"
      ],
      "metadata": {
        "id": "jwsE79HpAyPD"
      }
    },
    {
      "cell_type": "code",
      "source": [
        "def load_and_preprocess_audio(file_path, sr=44100, n_mels=64, n_fft=1024, hop_length=512):\n",
        "  #Step1: Caricare file audio\n",
        "  y, _ = librosa.load(file_path, sr=sr)\n",
        "  #Step2: Rimuovere il silenzio\n",
        "  #DA CAPIRE SE VA BENE 60\n",
        "  y, index = librosa.effects.trim(y, top_db = 60)\n",
        "  #Step3: Normalizzare\n",
        "  y = librosa.util.normalize(y)\n",
        "  #Step4: Calcolare Mel-spectrogram\n",
        "  y_mel = librosa.feature.melspectrogram(y=y, sr=sr, n_fft=n_fft, hop_length=hop_length, n_mels=n_mels)\n",
        "  #Step5: Convertire in Log\n",
        "  y_mel = librosa.power_to_db(y_mel, ref=np.max)    #calcola i db rispetto al valore massimo nel Mel-spect.\n",
        "\n",
        "  return y_mel\n"
      ],
      "metadata": {
        "id": "xIONDQ4eBVK1"
      },
      "execution_count": 11,
      "outputs": []
    },
    {
      "cell_type": "markdown",
      "source": [
        "## Processare tutti i file audio di ESC10"
      ],
      "metadata": {
        "id": "YeJV2eo4laCs"
      }
    },
    {
      "cell_type": "code",
      "source": [
        "categories= os.listdir(path='/content/drive/MyDrive/HumanData/ESC-10/')\n",
        "data = []\n",
        "\n",
        "for category in categories:\n",
        "  category_path = os.path.join('/content/drive/MyDrive/HumanData/ESC-10', category)\n",
        "  for file in os.listdir(category_path):\n",
        "\n",
        "    if file.endswith('.wav'):\n",
        "      file_path = os.path.join(category_path, file)\n",
        "      mel_spec = load_and_preprocess_audio(file_path)\n",
        "\n",
        "      data.append((mel_spec, category))"
      ],
      "metadata": {
        "id": "67IQIOhqm2A4"
      },
      "execution_count": 12,
      "outputs": []
    },
    {
      "cell_type": "markdown",
      "source": [
        "Visualizzare un esempio"
      ],
      "metadata": {
        "id": "1O23TXM27ahw"
      }
    },
    {
      "cell_type": "code",
      "source": [
        "mel, label = data[0]\n",
        "plt.figure(figsize=(10, 4))\n",
        "librosa.display.specshow(mel, y_axis='mel', x_axis='time')\n",
        "plt.colorbar(format='%+2.0f dB')\n",
        "plt.title(label)\n",
        "plt.tight_layout()\n",
        "plt.show()"
      ],
      "metadata": {
        "colab": {
          "base_uri": "https://localhost:8080/",
          "height": 369
        },
        "id": "EqoUz0XG7ZA2",
        "outputId": "a81cf558-f7d6-45b8-e0fd-6bdf7c19fe04"
      },
      "execution_count": 13,
      "outputs": [
        {
          "output_type": "display_data",
          "data": {
            "text/plain": [
              "<Figure size 1000x400 with 2 Axes>"
            ],
            "image/png": "[encoded data removed]"
          },
          "metadata": {}
        }
      ]
    },
    {
      "cell_type": "markdown",
      "source": [
        "## Convertire le etichette in numero"
      ],
      "metadata": {
        "id": "QzY0irZZ7woW"
      }
    },
    {
      "cell_type": "code",
      "source": [
        "labels = sorted(set([label for _, label in data]))\n",
        "label_index = {label: index for index, label in enumerate(labels)}\n",
        "print(label_index)"
      ],
      "metadata": {
        "colab": {
          "base_uri": "https://localhost:8080/"
        },
        "id": "gHyPmFT_7wZv",
        "outputId": "30886035-e9bd-44eb-fd4e-04d43ecad7dc"
      },
      "execution_count": 14,
      "outputs": [
        {
          "output_type": "stream",
          "name": "stdout",
          "text": [
            "{'chainsaw': 0, 'clock_tick': 1, 'crackling_fire': 2, 'crying_baby': 3, 'dog': 4, 'helicopter': 5, 'rain': 6, 'rooster': 7, 'sea_waves': 8, 'sneezing': 9}\n"
          ]
        }
      ]
    },
    {
      "cell_type": "code",
      "source": [
        "encoded_data = []\n",
        "\n",
        "for mel, label in data:\n",
        "  index = label_index[label]\n",
        "  encoded_data.append((mel, index))"
      ],
      "metadata": {
        "id": "iU9p-Jtw86uF"
      },
      "execution_count": 15,
      "outputs": []
    },
    {
      "cell_type": "code",
      "source": [
        "X = [x[0] for x in encoded_data]\n",
        "y = [x[1] for x in encoded_data]"
      ],
      "metadata": {
        "id": "6cRp9Pfgsozu"
      },
      "execution_count": 17,
      "outputs": []
    },
    {
      "cell_type": "markdown",
      "source": [
        "I dati sono di lunghezza variabile a causa del trimming del silenzio --> devo uniformare la dimensione degli input per poterli elaborare in batch di modelli di dl. La possibile strategia potrebbe essere: padding"
      ],
      "metadata": {
        "id": "OcSvxfYHtJwf"
      }
    },
    {
      "cell_type": "code",
      "source": [
        "max_len = max([mel.shape[1] for mel in X])\n",
        "\n",
        "def pad_mel(mel, max_len):\n",
        "  if mel.shape[1] < max_len:\n",
        "    pad_width = max_len - mel.shape[1]\n",
        "    mel = np.pad(mel, pad_width=((0,0), (0, pad_width)), mode='constant')\n",
        "  else:\n",
        "    mel = mel[:, :max_len]\n",
        "  return mel"
      ],
      "metadata": {
        "id": "LfMYeM0kwHw6"
      },
      "execution_count": 30,
      "outputs": []
    },
    {
      "cell_type": "code",
      "source": [
        "X_padded = [pad_mel(mel, max_len) for mel in X]"
      ],
      "metadata": {
        "id": "Eyau0puVxgc5"
      },
      "execution_count": 31,
      "outputs": []
    },
    {
      "cell_type": "code",
      "source": [
        "X_array = np.array(X_padded)\n",
        "y_array = np.array(y)"
      ],
      "metadata": {
        "id": "pmA-N5Bfx0S7"
      },
      "execution_count": 33,
      "outputs": []
    },
    {
      "cell_type": "markdown",
      "source": [
        "Salvataggio dei due array su '/content/drive/MyDrive/HumanData/esc10_data.npz'"
      ],
      "metadata": {
        "id": "NxQoA9A_2wGF"
      }
    },
    {
      "cell_type": "code",
      "source": [
        "np.savez('/content/drive/MyDrive/HumanData/esc10_data.npz', X=X_array, y=y_array)"
      ],
      "metadata": {
        "id": "dLNAfjBE3C4Y"
      },
      "execution_count": 43,
      "outputs": []
    }
  ]
}